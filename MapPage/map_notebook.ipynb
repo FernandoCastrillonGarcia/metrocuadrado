{
 "cells": [
  {
   "cell_type": "code",
   "execution_count": null,
   "metadata": {},
   "outputs": [],
   "source": [
    "# Map Libraries\n",
    "from branca.element import Figure\n",
    "import folium as fl\n",
    "from folium.plugins import MarkerCluster, FeatureGroupSubGroup, GroupedLayerControl\n",
    "\n",
    "# Data Managment\n",
    "import sqlite3\n",
    "import pandas as pd\n",
    "import geopandas as gpd\n",
    "from shapely.geometry import Point"
   ]
  },
  {
   "cell_type": "markdown",
   "metadata": {},
   "source": [
    "Create connection to Database"
   ]
  },
  {
   "cell_type": "code",
   "execution_count": null,
   "metadata": {},
   "outputs": [],
   "source": [
    "con = sqlite3.connect('../database.db')\n",
    "cur = con.cursor()"
   ]
  },
  {
   "cell_type": "markdown",
   "metadata": {},
   "source": [
    "get tables as df"
   ]
  },
  {
   "cell_type": "code",
   "execution_count": null,
   "metadata": {},
   "outputs": [],
   "source": [
    "Properties = pd.read_sql_query('select * from Properties', con)\n",
    "geometry = [Point(lon, lat) for lon, lat in zip(Properties['lon'], Properties['lat'])]\n",
    "geoProperties = gpd.GeoDataFrame(Properties, geometry=geometry)\n",
    "print(geoProperties.shape)\n",
    "geoProperties.head()"
   ]
  },
  {
   "cell_type": "code",
   "execution_count": null,
   "metadata": {},
   "outputs": [],
   "source": [
    "geoProperties['businessType'].value_counts()"
   ]
  },
  {
   "cell_type": "code",
   "execution_count": null,
   "metadata": {},
   "outputs": [],
   "source": [
    "geoProperties['propertyType'].value_counts()"
   ]
  },
  {
   "cell_type": "code",
   "execution_count": null,
   "metadata": {},
   "outputs": [],
   "source": [
    "def html_creator(data):\n",
    "    bathrooms = data.bathroomsNumber\n",
    "    rooms = data.roomsNumber\n",
    "    parking = data.parkingNumber\n",
    "\n",
    "    if data.bathroomsNumber < 1:\n",
    "        bathrooms = 'N/A'\n",
    "    if data.roomsNumber < 1:\n",
    "        rooms = 'N/A'\n",
    "    if data.parkingNumber < 1:\n",
    "        parking = 'N/A'\n",
    "    html_str = f\"\"\"\n",
    "    <!DOCTYPE html>\n",
    "    <html lang=\"en\">\n",
    "    <head>\n",
    "        <meta charset=\"UTF-8\">\n",
    "        <meta name=\"viewport\" content=\"width=device-width, initial-scale=1.0\">\n",
    "        <title>Property Information</title>\n",
    "        <style>\n",
    "            table {{\n",
    "                width: 100%;\n",
    "                border-collapse: collapse;\n",
    "                margin-top: 20px;\n",
    "            }}\n",
    "\n",
    "            th, td {{\n",
    "                border: 1px solid #ddd;\n",
    "                padding: 12px;\n",
    "                text-align: left;\n",
    "            }}\n",
    "\n",
    "            th {{\n",
    "                background-color: #f2f2f2;\n",
    "            }}\n",
    "\n",
    "            td.url {{\n",
    "                background-color: #e6f7ff; /* Light blue for URLs */\n",
    "            }}\n",
    "        </style>\n",
    "    </head>\n",
    "    <body>\n",
    "\n",
    "    <!-- Create a table to organize property information -->\n",
    "    <table>\n",
    "        <tr>\n",
    "            <th>Attribute</th>\n",
    "            <th>Value</th>\n",
    "        </tr>\n",
    "        <tr>\n",
    "            <td>Precio para</td>\n",
    "            <td>{str(data.businessType)}</td>\n",
    "        </tr>\n",
    "        <tr>\n",
    "            <td>Precio</td>\n",
    "            <td>$ {data.price:,}</td>\n",
    "        </tr>\n",
    "        <tr>\n",
    "            <td>Area</td>\n",
    "            <td>{str(data.area)} mt2</td>\n",
    "        </tr>\n",
    "        <tr>\n",
    "            <td>Estrato</td>\n",
    "            <td>{str(data.stratum)}</td>\n",
    "        </tr>\n",
    "        <tr>\n",
    "            <td>Numero de alcobas</td>\n",
    "            <td>{str(rooms)}</td>\n",
    "        </tr>\n",
    "        <tr>\n",
    "            <td>Numero de baños</td>\n",
    "            <td>{str(bathrooms)}</td>\n",
    "        </tr>\n",
    "        <tr>\n",
    "            <td>Numero de Parqueaderos</td>\n",
    "            <td>{str(parking)}</td>\n",
    "        </tr>\n",
    "        <tr>\n",
    "            <td>Tipo de Propiedad</td>\n",
    "            <td>{str(data.propertyType)}</td>\n",
    "        </tr>\n",
    "        <tr>\n",
    "            <td class=\"url\">URL</td>\n",
    "            <td class=\"url\"><a href=\"{str(data.url)}\">Enlace</a></td>\n",
    "        </tr>\n",
    "    </table>\n",
    "\n",
    "    </body>\n",
    "    </html>\n",
    "    \"\"\"\n",
    "    return html_str"
   ]
  },
  {
   "cell_type": "code",
   "execution_count": null,
   "metadata": {},
   "outputs": [],
   "source": [
    "min_lon, max_lon =  -74.2508, -74.0041\n",
    "min_lat, max_lat = 4.4697, 4.8529\n",
    "bog_location = (4.6479362,-74.0868797)\n",
    "\n",
    "m = fl.Map(\n",
    "    location = (4.6479362,-74.0868797),\n",
    "    zoom_start=11,\n",
    "    control_scale=True,\n",
    "    zoom_control=False,\n",
    "    min_lat=min_lat,\n",
    "    max_lat=max_lat,\n",
    "    min_lon=min_lon,\n",
    "    max_lon=max_lon)"
   ]
  },
  {
   "cell_type": "code",
   "execution_count": null,
   "metadata": {},
   "outputs": [],
   "source": [
    "legend_html = \"\"\"\n",
    "<div style=\"position: fixed; bottom: 50px; left: 50px; width: 200px; height: auto; z-index:9999; font-size:14px;\">\n",
    "<i class=\"fa fa-home fa-2x\" style=\"color:blue\"></i> - Apartamento<br>\n",
    "<i class=\"fa fa-home fa-2x\" style=\"color:green\"></i> - Casa<br>\n",
    "<i class=\"fa fa-home fa-2x\" style=\"color:red\"></i> - Oficina<br>\n",
    "<i class=\"fa fa-home fa-2x\" style=\"color:purple\"></i> - Bodega<br>\n",
    "<i class=\"fa fa-home fa-2x\" style=\"color:orange\"></i> - Local Comercial<br>\n",
    "<i class=\"fa fa-home fa-2x\" style=\"color:gray\"></i> - Lote o Casalote<br>\n",
    "<i class=\"fa fa-home fa-2x\" style=\"color:cyan\"></i> - Edificio de Apartamentos<br>\n",
    "<i class=\"fa fa-home fa-2x\" style=\"color:pink\"></i> - Consultorio<br>\n",
    "<i class=\"fa fa-home fa-2x\" style=\"color:brown\"></i> - Edificio de Oficinas<br>\n",
    "</div>\n",
    "\"\"\""
   ]
  },
  {
   "cell_type": "code",
   "execution_count": null,
   "metadata": {},
   "outputs": [],
   "source": [
    "cluster = MarkerCluster(control=False).add_to(m)\n",
    "clusters_dict = {}\n",
    "business_list = geoProperties['businessType'].unique()\n",
    "property_list = geoProperties['propertyType'].unique()\n",
    "for b in business_list:\n",
    "    clusters_dict[f\"{b}\"] = FeatureGroupSubGroup(cluster, name = p).add_to(m)\n",
    "    for p in property_list:\n",
    "        clusters_dict[f\"{b}_sub_{p}\"] = FeatureGroupSubGroup(cluster, name = p).add_to(m)"
   ]
  },
  {
   "cell_type": "code",
   "execution_count": null,
   "metadata": {},
   "outputs": [],
   "source": [
    "clusters_dict"
   ]
  },
  {
   "cell_type": "code",
   "execution_count": null,
   "metadata": {},
   "outputs": [],
   "source": [
    "propertyType_mapping = {\n",
    "    'Apartamento': 'blue',\n",
    "    'Casa': 'green',\n",
    "    'Oficina': 'red',\n",
    "    'Bodega': 'purple',\n",
    "    'Local Comercial': 'orange',\n",
    "    'Lote o Casalote': 'gray',\n",
    "    'Edificio de Apartamentos': 'cadetblue',\n",
    "    'Consultorio': 'pink',\n",
    "    'Edificio de Oficinas': 'beige'\n",
    "}"
   ]
  },
  {
   "cell_type": "code",
   "execution_count": null,
   "metadata": {},
   "outputs": [],
   "source": [
    "for i in geoProperties.itertuples():\n",
    "    # Get custom settings\n",
    "    iframe_html = html_creator(i)\n",
    "\n",
    "    # Add aesthetics to marker\n",
    "    icon = fl.Icon(icon='house', color = propertyType_mapping[i.propertyType])\n",
    "    iframe = fl.IFrame(html = iframe_html, width=400, height=600)\n",
    "    popup = fl.Popup(iframe)\n",
    "    marker = fl.Marker(location=(i.lat, i.lon),\n",
    "              icon=icon, popup=fl.Popup(iframe), tags = [i.businessType])\n",
    "    \n",
    "    # for b in business_list:\n",
    "    #     if i.businessType == b:\n",
    "    #         clusters_dict[f\"{b}\"].add_child(marker)"
   ]
  },
  {
   "cell_type": "code",
   "execution_count": null,
   "metadata": {},
   "outputs": [],
   "source": [
    "# GroupedLayerControl(\n",
    "#     groups = {'Venta': [globals()[f\"Venta_sub_{p}\"] for p in property_list],\n",
    "#               'Arriendo': [globals()[f\"Arriendo_sub_{p}\"] for p in property_list],\n",
    "#               'Venta y Arriendo': [globals()[f\"Venta y arriendo_sub_{p}\"] for p in property_list]},\n",
    "#     exclusive_groups=False,\n",
    "#     collapsed=True,\n",
    "# ).add_to(m)\n",
    "\n",
    "fl.plugins.TagFilterButton(['Venta', 'Arriendo', 'Venta y arriendo']).add_to(m)\n",
    "\n",
    "fl.LayerControl().add_to(m)\n",
    "m.get_root().html.add_child(fl.Element(legend_html))\n",
    "m"
   ]
  }
 ],
 "metadata": {
  "kernelspec": {
   "display_name": ".venv",
   "language": "python",
   "name": "python3"
  },
  "language_info": {
   "codemirror_mode": {
    "name": "ipython",
    "version": 3
   },
   "file_extension": ".py",
   "mimetype": "text/x-python",
   "name": "python",
   "nbconvert_exporter": "python",
   "pygments_lexer": "ipython3",
   "version": "3.12.0"
  }
 },
 "nbformat": 4,
 "nbformat_minor": 2
}

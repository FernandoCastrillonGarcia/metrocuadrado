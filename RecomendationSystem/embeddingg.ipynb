{
 "cells": [
  {
   "cell_type": "code",
   "execution_count": null,
   "metadata": {},
   "outputs": [],
   "source": [
    "# Data Managment\n",
    "import sqlite3\n",
    "import pandas as pd\n",
    "\n",
    "\n",
    "# Text Managment\n",
    "import re\n",
    "from sentence_transformers import SentenceTransformer, util\n",
    "import concurrent.futures\n",
    "from getpass import getpass\n",
    "import tiktoken\n",
    "import openai\n",
    "#from openai import OpenAI\n",
    "#client = OpenAI()\n",
    "\n",
    "# Miscellanium\n",
    "import os"
   ]
  },
  {
   "cell_type": "code",
   "execution_count": null,
   "metadata": {},
   "outputs": [],
   "source": [
    "con = sqlite3.connect('../database.db')\n",
    "cur = con.cursor()"
   ]
  },
  {
   "cell_type": "code",
   "execution_count": null,
   "metadata": {},
   "outputs": [],
   "source": [
    "query = \"\"\"\n",
    "SELECT \n",
    "    comments\n",
    "FROM\n",
    "    Properties\n",
    "\"\"\"\n",
    "Comments = pd.read_sql_query(query, con)\n",
    "Comments.head()"
   ]
  }
 ],
 "metadata": {
  "kernelspec": {
   "display_name": ".venv",
   "language": "python",
   "name": "python3"
  },
  "language_info": {
   "name": "python",
   "version": "3.11.7"
  }
 },
 "nbformat": 4,
 "nbformat_minor": 2
}
